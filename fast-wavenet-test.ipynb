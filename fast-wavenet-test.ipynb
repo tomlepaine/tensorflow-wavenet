{
 "cells": [
  {
   "cell_type": "code",
   "execution_count": null,
   "metadata": {
    "collapsed": true
   },
   "outputs": [],
   "source": [
    "# %load generate.py\n",
    "\n",
    "import argparse\n",
    "from time import time\n",
    "\n",
    "from datetime import datetime\n",
    "import json\n",
    "import os\n",
    "import matplotlib\n",
    "import matplotlib.pyplot as plt\n",
    "\n",
    "import numpy as np\n",
    "import tensorflow as tf\n",
    "\n",
    "from wavenet import WaveNet\n",
    "\n",
    "SAMPLES = 16000\n",
    "LOGDIR = './logdir'\n",
    "WINDOW = 80000\n",
    "WAVENET_PARAMS = './wavenet_params.json'\n",
    "\n",
    "%matplotlib inline"
   ]
  },
  {
   "cell_type": "code",
   "execution_count": null,
   "metadata": {
    "collapsed": false
   },
   "outputs": [],
   "source": [
    "class Args(object):\n",
    "    def __init__(self):\n",
    "        pass\n",
    "\n",
    "args = Args()\n",
    "args.checkpoint = './model.ckpt-0'\n",
    "args.samples = 1000\n",
    "args.logdir = ''\n",
    "args.window = 512\n",
    "args.wavenet_params = WAVENET_PARAMS\n",
    "args.wav_out_path = None\n",
    "args.fast_generation = True"
   ]
  },
  {
   "cell_type": "code",
   "execution_count": null,
   "metadata": {
    "collapsed": false
   },
   "outputs": [],
   "source": [
    "logdir = os.path.join(args.logdir, 'train', str(datetime.now()))\n",
    "with open(args.wavenet_params, 'r') as config_file:\n",
    "    wavenet_params = json.load(config_file)\n",
    "\n",
    "sess = tf.Session()\n",
    "\n",
    "net = WaveNet(\n",
    "    1,\n",
    "    wavenet_params['quantization_steps'],\n",
    "    wavenet_params['dilations'],\n",
    "    wavenet_params['filter_width'],\n",
    "    wavenet_params['residual_channels'],\n",
    "    wavenet_params['dilation_channels'],\n",
    "    fast_generation=args.fast_generation)\n",
    "\n",
    "samples = tf.placeholder(tf.int32)\n",
    "\n",
    "\n",
    "# next_sample = net.predict_proba(samples)\n",
    "next_sample, push_ops = net.predict_proba(samples)\n",
    "\n",
    "\n",
    "sess.run(tf.initialize_all_variables())\n",
    "\n",
    "variables_to_restore = {var.name[:-2]: var for var in tf.all_variables() if 'Variable' in var.name}\n",
    "saver = tf.train.Saver(variables_to_restore)\n",
    "print('Restoring model from {}'.format(args.checkpoint))\n",
    "saver.restore(sess, args.checkpoint)"
   ]
  },
  {
   "cell_type": "code",
   "execution_count": null,
   "metadata": {
    "collapsed": false,
    "scrolled": true
   },
   "outputs": [],
   "source": [
    "quantization_steps = wavenet_params['quantization_steps']\n",
    "# waveform = np.random.randint(quantization_steps, size=(1,)).tolist()\n",
    "waveform = [20]\n",
    "\n",
    "for n_i in range(10):\n",
    "    if args.fast_generation:\n",
    "        window = waveform[-1]\n",
    "    else:\n",
    "        if len(waveform) > args.window:\n",
    "            window = waveform[-args.window:]\n",
    "        else:\n",
    "            window = waveform\n",
    "\n",
    "    print window\n",
    "\n",
    "    feed_dict = {samples: window}\n",
    "\n",
    "    layers_ = sess.run(net.current_layers, feed_dict)\n",
    "    outputs_ = sess.run(net.outputs, feed_dict)\n",
    "\n",
    "    for i in range(len(outputs_)):\n",
    "        if args.fast_generation:\n",
    "            print 'layer {}:'.format(i), layers_[i][0, 0:2]\n",
    "            print 'output {}:'.format(i), outputs_[i][0, 0:2]\n",
    "        else:\n",
    "        # print np.all(np.equal(layers_[i] + outputs_[i], layers_[i+1]))\n",
    "            print 'layer {}:'.format(i), layers_[i][0, n_i, 0:2]\n",
    "            print 'output {}:'.format(i), outputs_[i][0, n_i, 0:2]\n",
    "\n",
    "\n",
    "    prediction = sess.run(next_sample, feed_dict)\n",
    "    print 'prediction:', prediction[0:2]\n",
    "    sample = np.argmax(prediction)\n",
    "    waveform.append(sample)\n",
    "\n",
    "    pointers = [sess.run(var) for var in tf.all_variables() if 'pointer' in var.name]\n",
    "    buffers = [sess.run(var) for var in tf.all_variables() if 'state_buffer' in var.name]\n",
    "    for item_i, (pointer, buffer_) in enumerate(zip(pointers, buffers)):\n",
    "        print 'state {}:'.format(item_i), pointer, buffer_[pointer, 0, 0:2]\n",
    "    \n",
    "    _ = sess.run(push_ops, feed_dict)\n",
    "    print 'run'\n",
    "\n",
    "    pointers = [sess.run(var) for var in tf.all_variables() if 'pointer' in var.name]\n",
    "    buffers = [sess.run(var) for var in tf.all_variables() if 'state_buffer' in var.name]\n",
    "    for item_i, (pointer, buffer_) in enumerate(zip(pointers, buffers)):\n",
    "        print 'state {}:'.format(item_i), pointer, buffer_[pointer, 0, 0:2]\n",
    "\n",
    "    print 'sample:', sample\n",
    "    print '---'\n",
    "\n",
    "print waveform\n",
    "plt.plot(waveform)"
   ]
  },
  {
   "cell_type": "code",
   "execution_count": null,
   "metadata": {
    "collapsed": false
   },
   "outputs": [],
   "source": [
    "oh_dear_god = tf.placeholder(tf.float32, shape=(1, 32))\n",
    "\n",
    "q = Queue(batch_size=1,\n",
    "          state_size=32,\n",
    "          buffer_size=1)\n",
    "\n",
    "current_state = q.pop()\n",
    "push = q.push(oh_dear_god)\n",
    "\n",
    "print sess.run(push, feed_dict={oh_dear_god: np.ones((1, 32))*np.random.randn()})"
   ]
  },
  {
   "cell_type": "code",
   "execution_count": null,
   "metadata": {
    "collapsed": false
   },
   "outputs": [],
   "source": [
    "\n",
    "times = []\n",
    "# for step in range(args.samples):\n",
    "for step in range(1):\n",
    "    if args.fast_generation:\n",
    "        window = waveform[-1]\n",
    "        outputs = [next_sample]\n",
    "        outputs.extend(push_ops)\n",
    "        tic = time()\n",
    "        outputs_list = sess.run(\n",
    "            outputs,\n",
    "            feed_dict={samples: window})\n",
    "        prediction = outputs_list[0]\n",
    "        toc = time()\n",
    "    else:\n",
    "        if len(waveform) > args.window:\n",
    "            window = waveform[-args.window:]\n",
    "        else:\n",
    "            window = waveform\n",
    "        outputs = [next_sample]\n",
    "        tic = time()\n",
    "        prediction = sess.run(\n",
    "            next_sample,\n",
    "            feed_dict={samples: window})\n",
    "        toc = time()\n",
    "    times.append(toc-tic)\n",
    "    print 'Average sample took {} seconds.'.format(np.mean(times))\n",
    "    sample = np.argmax(prediction)\n",
    "    print sample\n",
    "    # sample = np.random.choice(np.arange(quantization_steps), p=prediction)\n",
    "    waveform.append(sample)\n",
    "    print waveform\n",
    "    print('Sample {:3<d}/{:3<d}: {}'.format(step + 1, args.samples, sample))\n",
    "# plt.plot(waveform)"
   ]
  },
  {
   "cell_type": "code",
   "execution_count": null,
   "metadata": {
    "collapsed": false
   },
   "outputs": [],
   "source": [
    "vars = [var for var in tf.all_variables() if 'state_buffer' in var.name or 'pointer' in var.name]"
   ]
  },
  {
   "cell_type": "code",
   "execution_count": null,
   "metadata": {
    "collapsed": false
   },
   "outputs": [],
   "source": [
    "sess.run(vars[0])"
   ]
  },
  {
   "cell_type": "code",
   "execution_count": null,
   "metadata": {
    "collapsed": false
   },
   "outputs": [],
   "source": [
    "saver = tf.train.Saver()\n",
    "\n",
    "checkpoint_path = os.path.join('.', 'model.ckpt')\n",
    "print('Storing checkpoint to {}'.format(checkpoint_path))\n",
    "saver.save(sess, checkpoint_path, global_step=0)"
   ]
  },
  {
   "cell_type": "code",
   "execution_count": null,
   "metadata": {
    "collapsed": false
   },
   "outputs": [],
   "source": [
    "sess.run(vars[2])"
   ]
  },
  {
   "cell_type": "code",
   "execution_count": null,
   "metadata": {
    "collapsed": false
   },
   "outputs": [],
   "source": [
    "vars = {var.name: var.get_shape() for var in tf.all_variables() if 'state_buffer' in var.name or 'pointer' in var.name}"
   ]
  },
  {
   "cell_type": "code",
   "execution_count": null,
   "metadata": {
    "collapsed": false
   },
   "outputs": [],
   "source": [
    "for key, value in vars.iteritems():\n",
    "    print key, value"
   ]
  },
  {
   "cell_type": "code",
   "execution_count": null,
   "metadata": {
    "collapsed": true
   },
   "outputs": [],
   "source": []
  }
 ],
 "metadata": {
  "kernelspec": {
   "display_name": "Python 2",
   "language": "python",
   "name": "python2"
  },
  "language_info": {
   "codemirror_mode": {
    "name": "ipython",
    "version": 2
   },
   "file_extension": ".py",
   "mimetype": "text/x-python",
   "name": "python",
   "nbconvert_exporter": "python",
   "pygments_lexer": "ipython2",
   "version": "2.7.6"
  }
 },
 "nbformat": 4,
 "nbformat_minor": 1
}
